{
 "cells": [
  {
   "cell_type": "markdown",
   "id": "1be63e10-47f0-4833-919c-feb5d12c4e00",
   "metadata": {},
   "source": [
    "# Scraper of available Bolt jobs"
   ]
  },
  {
   "cell_type": "code",
   "execution_count": 1,
   "id": "60ffb125-36c1-4e2b-843d-51bd5d86454e",
   "metadata": {},
   "outputs": [],
   "source": [
    "import pandas as pd\n",
    "import numpy as np\n",
    "import requests\n",
    "from bs4 import BeautifulSoup\n",
    "from html import unescape\n",
    "import re\n",
    "from time import sleep\n",
    "from tqdm import tqdm"
   ]
  },
  {
   "cell_type": "markdown",
   "id": "959f74e5-701c-4c22-99a2-e976a3ca7dba",
   "metadata": {},
   "source": [
    "- Scraper class"
   ]
  },
  {
   "cell_type": "code",
   "execution_count": 2,
   "id": "da20bd6a-6ddc-4d56-95a0-abd82855a2ec",
   "metadata": {},
   "outputs": [],
   "source": [
    "class boltScraper():\n",
    "    def __init__(self):\n",
    "        self.jobs_df = pd.DataFrame()\n",
    "    \n",
    "    def get_job_list(self):\n",
    "        \"\"\"Method to get all positions available on site (without details)\"\"\"\n",
    "        request_url = 'https://node.bolt.eu/careers-portal/careersPortal/v2/getJobs/?version=CP.3.72'\n",
    "        response = requests.get(request_url)\n",
    "        \n",
    "        if response.status_code == 200:\n",
    "            response_dict = response.json()\n",
    "            self.jobs_df = pd.DataFrame(response_dict['data']['jobs'])\n",
    "            #add a column with the job page\n",
    "            self.jobs_df['link'] = 'https://bolt.eu/en/careers/positions/' + self.jobs_df['id']\n",
    "            print(f'Success! There are {len(self.jobs_df)} jobs available!')\n",
    "        else:\n",
    "            print('Request ERROR!!')\n",
    "    \n",
    "    def clean_description(self, text):\n",
    "        \"\"\"Helper function to clean html text from response\"\"\"\n",
    "        text_without_tags = re.sub('<[^<]+?>', '', text)\n",
    "        clean_text = re.sub('\\xa0|\\n|\\u200b', ' ', text_without_tags)\n",
    "        return clean_text\n",
    "    \n",
    "    def request_job_info(self, job_id):\n",
    "        \"\"\"Helper function to get jobs details by request\"\"\"\n",
    "        #request url\n",
    "        job_info_url = f'https://node.bolt.eu/careers-portal/careersPortal/v2/getJob/?id={job_id}&version=CP.3.72'\n",
    "        #random sleep time to not get caught by anti-crawlers\n",
    "        sleep(np.random.chisquare(2))\n",
    "        #get response\n",
    "        response = requests.get(job_info_url)\n",
    "\n",
    "        if response.status_code == 200:\n",
    "            #get the job description from json object\n",
    "            description_text = response.json()['data']['description']\n",
    "            #parse text using beautifulSoup\n",
    "            soup = BeautifulSoup(unescape(description_text))\n",
    "            return self.clean_description(soup.text)\n",
    "        else:\n",
    "            print('Request ERROR')\n",
    "            return None\n",
    "        \n",
    "    def get_job_info(self):\n",
    "        \"\"\"Method to make all job infos requests and storing them in a column of the DataFrame\"\"\"\n",
    "        description_list = []\n",
    "        for job_id in tqdm(self.jobs_df['id']):\n",
    "            #requests\n",
    "            job_description = self.request_job_info(job_id)\n",
    "            description_list.append(job_description)\n",
    "            \n",
    "        self.jobs_df['description'] = description_list\n",
    "        \n",
    "    def save_data(self):\n",
    "        \"\"\"Method to save the dataFrame in a csv format\"\"\"\n",
    "        self.jobs_df.to_csv('bolt_jobs_info.csv', index=False)"
   ]
  },
  {
   "cell_type": "markdown",
   "id": "84d548a9-240c-4ea6-ae5d-4daca589560f",
   "metadata": {},
   "source": [
    "- Let's get the data! (I hope no one blocks me)"
   ]
  },
  {
   "cell_type": "code",
   "execution_count": 3,
   "id": "6d252ec4-ec00-4a46-a79f-ebf51297941e",
   "metadata": {},
   "outputs": [],
   "source": [
    "bolt_jobs = boltScraper()"
   ]
  },
  {
   "cell_type": "code",
   "execution_count": 4,
   "id": "00e5b361-bc57-42fe-b0c3-aa9ac3c2ce33",
   "metadata": {},
   "outputs": [
    {
     "name": "stdout",
     "output_type": "stream",
     "text": [
      "Success! There are 968 jobs available!\n"
     ]
    }
   ],
   "source": [
    "bolt_jobs.get_job_list()"
   ]
  },
  {
   "cell_type": "code",
   "execution_count": 5,
   "id": "51e3163c-462e-429c-8a5d-2442bc38eaaf",
   "metadata": {},
   "outputs": [
    {
     "name": "stderr",
     "output_type": "stream",
     "text": [
      "100%|██████████| 968/968 [47:40<00:00,  2.96s/it]  \n"
     ]
    }
   ],
   "source": [
    "bolt_jobs.get_job_info()\n",
    "bolt_jobs.save_data()"
   ]
  }
 ],
 "metadata": {
  "kernelspec": {
   "display_name": "Python 3",
   "language": "python",
   "name": "python3"
  },
  "language_info": {
   "codemirror_mode": {
    "name": "ipython",
    "version": 3
   },
   "file_extension": ".py",
   "mimetype": "text/x-python",
   "name": "python",
   "nbconvert_exporter": "python",
   "pygments_lexer": "ipython3",
   "version": "3.6.13"
  }
 },
 "nbformat": 4,
 "nbformat_minor": 5
}
