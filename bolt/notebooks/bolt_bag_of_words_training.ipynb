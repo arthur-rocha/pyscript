{
 "cells": [
  {
   "cell_type": "markdown",
   "id": "f2376fa6-af33-4d3e-a895-6ab1eba2b45e",
   "metadata": {},
   "source": [
    "# NLP to recommend Bolt jobs\n",
    "\n",
    "### Idea:\n",
    "\n",
    "- Get a user input of a description of his experience and habilitys and then find the positions that fit the most.\n",
    "- Use the bag of words aproach to get data from text\n",
    "- Calcule the cosine similarity to find the best job ever"
   ]
  },
  {
   "cell_type": "code",
   "execution_count": 12,
   "id": "e8811c27-6e42-4490-bec4-1c7765680210",
   "metadata": {},
   "outputs": [
    {
     "name": "stderr",
     "output_type": "stream",
     "text": [
      "[nltk_data] Downloading package stopwords to /root/nltk_data...\n",
      "[nltk_data]   Package stopwords is already up-to-date!\n",
      "[nltk_data] Downloading package punkt to /root/nltk_data...\n",
      "[nltk_data]   Unzipping tokenizers/punkt.zip.\n"
     ]
    },
    {
     "data": {
      "text/plain": [
       "True"
      ]
     },
     "execution_count": 12,
     "metadata": {},
     "output_type": "execute_result"
    }
   ],
   "source": [
    "#install dependencies\n",
    "import nltk\n",
    "nltk.download('stopwords')\n",
    "nltk.download('punkt')"
   ]
  },
  {
   "cell_type": "code",
   "execution_count": 111,
   "id": "d495ad07-c23a-4471-ae0c-dea09a3eecba",
   "metadata": {},
   "outputs": [],
   "source": [
    "from rake_nltk import Rake\n",
    "import pandas as pd\n",
    "import numpy as np\n",
    "from sklearn.metrics.pairwise import cosine_similarity\n",
    "from sklearn.feature_extraction.text import CountVectorizer\n",
    "import joblib"
   ]
  },
  {
   "cell_type": "markdown",
   "id": "7e29b4d1-7bf5-4621-89e3-9d33f3c5a72f",
   "metadata": {},
   "source": [
    "Let's read the data that we scraped"
   ]
  },
  {
   "cell_type": "code",
   "execution_count": 73,
   "id": "564165ff-fd03-4b3e-acfa-45b0b700b4d6",
   "metadata": {},
   "outputs": [
    {
     "data": {
      "text/html": [
       "<div>\n",
       "<style scoped>\n",
       "    .dataframe tbody tr th:only-of-type {\n",
       "        vertical-align: middle;\n",
       "    }\n",
       "\n",
       "    .dataframe tbody tr th {\n",
       "        vertical-align: top;\n",
       "    }\n",
       "\n",
       "    .dataframe thead th {\n",
       "        text-align: right;\n",
       "    }\n",
       "</style>\n",
       "<table border=\"1\" class=\"dataframe\">\n",
       "  <thead>\n",
       "    <tr style=\"text-align: right;\">\n",
       "      <th></th>\n",
       "      <th>Unnamed: 0</th>\n",
       "      <th>id</th>\n",
       "      <th>title</th>\n",
       "      <th>department</th>\n",
       "      <th>location</th>\n",
       "      <th>link</th>\n",
       "      <th>description</th>\n",
       "    </tr>\n",
       "  </thead>\n",
       "  <tbody>\n",
       "    <tr>\n",
       "      <th>0</th>\n",
       "      <td>0</td>\n",
       "      <td>5380554002</td>\n",
       "      <td>Accountant</td>\n",
       "      <td>Finance</td>\n",
       "      <td>{'city': 'Tallinn, Estonia'}</td>\n",
       "      <td>https://bolt.eu/en/careers/positions/5380554002</td>\n",
       "      <td>We are looking for an Accountant with at least...</td>\n",
       "    </tr>\n",
       "    <tr>\n",
       "      <th>1</th>\n",
       "      <td>1</td>\n",
       "      <td>5802857002</td>\n",
       "      <td>Account Management Specialist</td>\n",
       "      <td>Bolt Food</td>\n",
       "      <td>{'city': 'Warsaw, Poland'}</td>\n",
       "      <td>https://bolt.eu/en/careers/positions/5802857002</td>\n",
       "      <td>Bolt Food is looking for a passionate  Accoun...</td>\n",
       "    </tr>\n",
       "    <tr>\n",
       "      <th>2</th>\n",
       "      <td>2</td>\n",
       "      <td>5835763002</td>\n",
       "      <td>Account Management Team Lead</td>\n",
       "      <td>Bolt Food</td>\n",
       "      <td>{'city': 'Kyiv, Ukraine'}</td>\n",
       "      <td>https://bolt.eu/en/careers/positions/5835763002</td>\n",
       "      <td>Bolt Food is looking for a passionate Account...</td>\n",
       "    </tr>\n",
       "    <tr>\n",
       "      <th>3</th>\n",
       "      <td>3</td>\n",
       "      <td>5770201002</td>\n",
       "      <td>Account Management Team Lead</td>\n",
       "      <td>Bolt Food</td>\n",
       "      <td>{'city': 'Baku, Azerbaijan'}</td>\n",
       "      <td>https://bolt.eu/en/careers/positions/5770201002</td>\n",
       "      <td>Bolt Food is looking for a passionate Account...</td>\n",
       "    </tr>\n",
       "    <tr>\n",
       "      <th>4</th>\n",
       "      <td>4</td>\n",
       "      <td>6057289002</td>\n",
       "      <td>Account Management Team Lead</td>\n",
       "      <td>Bolt Food</td>\n",
       "      <td>{'city': 'Vilnius, Lithuania'}</td>\n",
       "      <td>https://bolt.eu/en/careers/positions/6057289002</td>\n",
       "      <td>Bolt Food Lithuania is looking for a passiona...</td>\n",
       "    </tr>\n",
       "  </tbody>\n",
       "</table>\n",
       "</div>"
      ],
      "text/plain": [
       "   Unnamed: 0          id                            title department  \\\n",
       "0           0  5380554002                       Accountant    Finance   \n",
       "1           1  5802857002   Account Management Specialist   Bolt Food   \n",
       "2           2  5835763002     Account Management Team Lead  Bolt Food   \n",
       "3           3  5770201002     Account Management Team Lead  Bolt Food   \n",
       "4           4  6057289002     Account Management Team Lead  Bolt Food   \n",
       "\n",
       "                         location  \\\n",
       "0    {'city': 'Tallinn, Estonia'}   \n",
       "1      {'city': 'Warsaw, Poland'}   \n",
       "2       {'city': 'Kyiv, Ukraine'}   \n",
       "3    {'city': 'Baku, Azerbaijan'}   \n",
       "4  {'city': 'Vilnius, Lithuania'}   \n",
       "\n",
       "                                              link  \\\n",
       "0  https://bolt.eu/en/careers/positions/5380554002   \n",
       "1  https://bolt.eu/en/careers/positions/5802857002   \n",
       "2  https://bolt.eu/en/careers/positions/5835763002   \n",
       "3  https://bolt.eu/en/careers/positions/5770201002   \n",
       "4  https://bolt.eu/en/careers/positions/6057289002   \n",
       "\n",
       "                                         description  \n",
       "0  We are looking for an Accountant with at least...  \n",
       "1   Bolt Food is looking for a passionate  Accoun...  \n",
       "2   Bolt Food is looking for a passionate Account...  \n",
       "3   Bolt Food is looking for a passionate Account...  \n",
       "4   Bolt Food Lithuania is looking for a passiona...  "
      ]
     },
     "execution_count": 73,
     "metadata": {},
     "output_type": "execute_result"
    }
   ],
   "source": [
    "df_job = pd.read_csv('bolt_jobs_info.csv')\n",
    "df_job.head()"
   ]
  },
  {
   "cell_type": "markdown",
   "id": "33e16e29-924a-44e7-ab29-d854515cc0f9",
   "metadata": {},
   "source": [
    "- Extracting key-words from jobs descriptions"
   ]
  },
  {
   "cell_type": "code",
   "execution_count": 78,
   "id": "c1b9403c-a7d2-40ac-b705-38730c457e3c",
   "metadata": {},
   "outputs": [],
   "source": [
    "df_job['bag_of_words'] = ''\n",
    "key_extractor = Rake() \n",
    "bag_of_words_list = []\n",
    "for index, row in df_job.iterrows():\n",
    "    key_extractor.extract_keywords_from_text(row['description'])\n",
    "    key_words_dict_scores = key_extractor.get_word_degrees()\n",
    "    key_words_list = list(key_words_dict_scores.keys())\n",
    "    bag_of_words = ' '.join(key_words_list) \n",
    "    bag_of_words_list.append(bag_of_words)"
   ]
  },
  {
   "cell_type": "code",
   "execution_count": 79,
   "id": "e4d29b4c-59fe-43f3-9f94-0dd8b5e9b7b4",
   "metadata": {},
   "outputs": [],
   "source": [
    "df_job['bag_of_words'] = bag_of_words_list"
   ]
  },
  {
   "cell_type": "code",
   "execution_count": 123,
   "id": "22b14763-74ec-432b-b16d-18e02616cc15",
   "metadata": {
    "tags": []
   },
   "outputs": [
    {
     "data": {
      "text/html": [
       "<div>\n",
       "<style scoped>\n",
       "    .dataframe tbody tr th:only-of-type {\n",
       "        vertical-align: middle;\n",
       "    }\n",
       "\n",
       "    .dataframe tbody tr th {\n",
       "        vertical-align: top;\n",
       "    }\n",
       "\n",
       "    .dataframe thead th {\n",
       "        text-align: right;\n",
       "    }\n",
       "</style>\n",
       "<table border=\"1\" class=\"dataframe\">\n",
       "  <thead>\n",
       "    <tr style=\"text-align: right;\">\n",
       "      <th></th>\n",
       "      <th>Unnamed: 0</th>\n",
       "      <th>id</th>\n",
       "      <th>title</th>\n",
       "      <th>department</th>\n",
       "      <th>location</th>\n",
       "      <th>link</th>\n",
       "      <th>description</th>\n",
       "      <th>bag_of_words</th>\n",
       "      <th>similarity</th>\n",
       "    </tr>\n",
       "  </thead>\n",
       "  <tbody>\n",
       "    <tr>\n",
       "      <th>0</th>\n",
       "      <td>0</td>\n",
       "      <td>5380554002</td>\n",
       "      <td>Accountant</td>\n",
       "      <td>Finance</td>\n",
       "      <td>{'city': 'Tallinn, Estonia'}</td>\n",
       "      <td>https://bolt.eu/en/careers/positions/5380554002</td>\n",
       "      <td>We are looking for an Accountant with at least...</td>\n",
       "      <td>looking accountant least 3 years experience jo...</td>\n",
       "      <td>0.076472</td>\n",
       "    </tr>\n",
       "    <tr>\n",
       "      <th>1</th>\n",
       "      <td>1</td>\n",
       "      <td>5802857002</td>\n",
       "      <td>Account Management Specialist</td>\n",
       "      <td>Bolt Food</td>\n",
       "      <td>{'city': 'Warsaw, Poland'}</td>\n",
       "      <td>https://bolt.eu/en/careers/positions/5802857002</td>\n",
       "      <td>Bolt Food is looking for a passionate  Accoun...</td>\n",
       "      <td>bolt food looking passionate account managemen...</td>\n",
       "      <td>0.131352</td>\n",
       "    </tr>\n",
       "    <tr>\n",
       "      <th>2</th>\n",
       "      <td>2</td>\n",
       "      <td>5835763002</td>\n",
       "      <td>Account Management Team Lead</td>\n",
       "      <td>Bolt Food</td>\n",
       "      <td>{'city': 'Kyiv, Ukraine'}</td>\n",
       "      <td>https://bolt.eu/en/careers/positions/5835763002</td>\n",
       "      <td>Bolt Food is looking for a passionate Account...</td>\n",
       "      <td>bolt food looking passionate account managemen...</td>\n",
       "      <td>0.125988</td>\n",
       "    </tr>\n",
       "  </tbody>\n",
       "</table>\n",
       "</div>"
      ],
      "text/plain": [
       "   Unnamed: 0          id                            title department  \\\n",
       "0           0  5380554002                       Accountant    Finance   \n",
       "1           1  5802857002   Account Management Specialist   Bolt Food   \n",
       "2           2  5835763002     Account Management Team Lead  Bolt Food   \n",
       "\n",
       "                       location  \\\n",
       "0  {'city': 'Tallinn, Estonia'}   \n",
       "1    {'city': 'Warsaw, Poland'}   \n",
       "2     {'city': 'Kyiv, Ukraine'}   \n",
       "\n",
       "                                              link  \\\n",
       "0  https://bolt.eu/en/careers/positions/5380554002   \n",
       "1  https://bolt.eu/en/careers/positions/5802857002   \n",
       "2  https://bolt.eu/en/careers/positions/5835763002   \n",
       "\n",
       "                                         description  \\\n",
       "0  We are looking for an Accountant with at least...   \n",
       "1   Bolt Food is looking for a passionate  Accoun...   \n",
       "2   Bolt Food is looking for a passionate Account...   \n",
       "\n",
       "                                        bag_of_words  similarity  \n",
       "0  looking accountant least 3 years experience jo...    0.076472  \n",
       "1  bolt food looking passionate account managemen...    0.131352  \n",
       "2  bolt food looking passionate account managemen...    0.125988  "
      ]
     },
     "execution_count": 123,
     "metadata": {},
     "output_type": "execute_result"
    }
   ],
   "source": [
    "df_job.head(3)"
   ]
  },
  {
   "cell_type": "markdown",
   "id": "4c114529-728f-44a7-a752-4ff3178021e7",
   "metadata": {},
   "source": [
    "- Bag of words approach to transform text to vector"
   ]
  },
  {
   "cell_type": "code",
   "execution_count": 81,
   "id": "13c4d24c-9c2a-4871-9992-fd3074e5206b",
   "metadata": {},
   "outputs": [],
   "source": [
    "#init encoder class\n",
    "count_vec = CountVectorizer()\n",
    "#transform\n",
    "count_matrix = count_vec.fit_transform(df_job['bag_of_words'])"
   ]
  },
  {
   "cell_type": "markdown",
   "id": "3e785b58-f2a6-4615-9b07-ff77783183b6",
   "metadata": {},
   "source": [
    "- Serialize model objects to use them later"
   ]
  },
  {
   "cell_type": "code",
   "execution_count": 134,
   "id": "63c2a912-d115-41f5-a816-172b4aa53922",
   "metadata": {},
   "outputs": [
    {
     "data": {
      "text/plain": [
       "['model_objects/jobs_matrix.joblib']"
      ]
     },
     "execution_count": 134,
     "metadata": {},
     "output_type": "execute_result"
    }
   ],
   "source": [
    "joblib.dump(count_matrix, '../model_objects/jobs_matrix.joblib')"
   ]
  },
  {
   "cell_type": "code",
   "execution_count": 135,
   "id": "235a7acc-7d93-48c3-84fc-ef36ce9dbbdd",
   "metadata": {},
   "outputs": [
    {
     "data": {
      "text/plain": [
       "['model_objects/jobs_encoder.joblib']"
      ]
     },
     "execution_count": 135,
     "metadata": {},
     "output_type": "execute_result"
    }
   ],
   "source": [
    "joblib.dump(count_vec, '../model_objects/jobs_encoder.joblib')"
   ]
  },
  {
   "cell_type": "markdown",
   "id": "6f87148c-6c6d-4fac-969b-c475859ac5e4",
   "metadata": {},
   "source": [
    "- Save a feather data-frame to use on application"
   ]
  },
  {
   "cell_type": "code",
   "execution_count": 136,
   "id": "eb7ca8a0-24cc-41a2-86d4-e239c9ccf651",
   "metadata": {},
   "outputs": [],
   "source": [
    "joblib.dump(df_job[['title', 'department', 'location',\t'link']], '../model_objects/jobs_filtered_data.joblib')"
   ]
  },
  {
   "cell_type": "markdown",
   "id": "46835387-61ce-4919-8165-5e919b31b9ee",
   "metadata": {},
   "source": [
    "### Example of use"
   ]
  },
  {
   "cell_type": "code",
   "execution_count": 124,
   "id": "73b3b509-101f-45df-b2a0-678fc46185c7",
   "metadata": {},
   "outputs": [],
   "source": [
    "user_description = \"\"\"\n",
    "Hey! I'm a data scientist with 3 years of experience. I like to use R, python, SQL and NoSQL, javascript and docker\n",
    "\"\"\""
   ]
  },
  {
   "cell_type": "code",
   "execution_count": 128,
   "id": "6bb24008-0b90-4376-af6b-dcbd735897e2",
   "metadata": {},
   "outputs": [],
   "source": [
    "def transform_input(user_description):\n",
    "    key_extractor = Rake() \n",
    "    key_extractor.extract_keywords_from_text(user_description)\n",
    "    key_words_dict_scores = key_extractor.get_word_degrees()\n",
    "    key_words_list = list(key_words_dict_scores.keys())\n",
    "    return ' '.join(key_words_list) "
   ]
  },
  {
   "cell_type": "code",
   "execution_count": 132,
   "id": "70c72914-8467-4e91-bf2c-f1c942cdb59f",
   "metadata": {},
   "outputs": [],
   "source": [
    "def recommend(description, df):\n",
    "    user_matrix = count_vec.transform([user_bag_of_words])\n",
    "    cosine_sim = cosine_similarity(user_matrix, count_matrix)\n",
    "    df['similarity'] = cosine_sim[0]\n",
    "    return df.sort_values('similarity', ascending=False).head(10)"
   ]
  },
  {
   "cell_type": "code",
   "execution_count": 130,
   "id": "0c1a33ff-6556-4145-aabe-7c1efa4c143c",
   "metadata": {},
   "outputs": [
    {
     "name": "stdout",
     "output_type": "stream",
     "text": [
      "hey data scientist 3 years experience like use r python sql nosql javascript docker\n"
     ]
    }
   ],
   "source": [
    "user_bag_of_words = transform_input(user_description)\n",
    "print(user_bag_of_words)"
   ]
  },
  {
   "cell_type": "code",
   "execution_count": 133,
   "id": "1d7bc97c-0c26-4b36-afe0-a4d9eb56584b",
   "metadata": {},
   "outputs": [
    {
     "data": {
      "text/html": [
       "<div>\n",
       "<style scoped>\n",
       "    .dataframe tbody tr th:only-of-type {\n",
       "        vertical-align: middle;\n",
       "    }\n",
       "\n",
       "    .dataframe tbody tr th {\n",
       "        vertical-align: top;\n",
       "    }\n",
       "\n",
       "    .dataframe thead th {\n",
       "        text-align: right;\n",
       "    }\n",
       "</style>\n",
       "<table border=\"1\" class=\"dataframe\">\n",
       "  <thead>\n",
       "    <tr style=\"text-align: right;\">\n",
       "      <th></th>\n",
       "      <th>Unnamed: 0</th>\n",
       "      <th>id</th>\n",
       "      <th>title</th>\n",
       "      <th>department</th>\n",
       "      <th>location</th>\n",
       "      <th>link</th>\n",
       "      <th>description</th>\n",
       "      <th>bag_of_words</th>\n",
       "      <th>similarity</th>\n",
       "    </tr>\n",
       "  </thead>\n",
       "  <tbody>\n",
       "    <tr>\n",
       "      <th>917</th>\n",
       "      <td>917</td>\n",
       "      <td>6077232002</td>\n",
       "      <td>Supply Chain Data Analyst</td>\n",
       "      <td>Bolt Market</td>\n",
       "      <td>{'city': 'Warsaw, Poland'}</td>\n",
       "      <td>https://bolt.eu/en/careers/positions/6077232002</td>\n",
       "      <td>We are looking for a Supply Chain Data Analys...</td>\n",
       "      <td>looking supply chain data analyst join bolt ’ ...</td>\n",
       "      <td>0.196293</td>\n",
       "    </tr>\n",
       "    <tr>\n",
       "      <th>119</th>\n",
       "      <td>119</td>\n",
       "      <td>6100418002</td>\n",
       "      <td>Data Analyst, Fraud</td>\n",
       "      <td>Analytics</td>\n",
       "      <td>{'city': 'Tallinn, Estonia'}</td>\n",
       "      <td>https://bolt.eu/en/careers/positions/6100418002</td>\n",
       "      <td>We are looking for a motivated Data Analyst to...</td>\n",
       "      <td>looking motivated data analyst join fraud team...</td>\n",
       "      <td>0.192669</td>\n",
       "    </tr>\n",
       "    <tr>\n",
       "      <th>915</th>\n",
       "      <td>915</td>\n",
       "      <td>6098695002</td>\n",
       "      <td>Supply Chain Data Analyst</td>\n",
       "      <td>Bolt Market</td>\n",
       "      <td>{'city': 'Tallinn, Estonia'}</td>\n",
       "      <td>https://bolt.eu/en/careers/positions/6098695002</td>\n",
       "      <td>We are looking for a Supply Chain Data Analys...</td>\n",
       "      <td>looking supply chain data analyst join bolt ’ ...</td>\n",
       "      <td>0.172328</td>\n",
       "    </tr>\n",
       "    <tr>\n",
       "      <th>916</th>\n",
       "      <td>916</td>\n",
       "      <td>6098696002</td>\n",
       "      <td>Supply Chain Data Analyst</td>\n",
       "      <td>Bolt Market</td>\n",
       "      <td>{'city': 'Lisbon, Portugal'}</td>\n",
       "      <td>https://bolt.eu/en/careers/positions/6098696002</td>\n",
       "      <td>We are looking for a Supply Chain Data Analys...</td>\n",
       "      <td>looking supply chain data analyst join bolt ’ ...</td>\n",
       "      <td>0.172328</td>\n",
       "    </tr>\n",
       "    <tr>\n",
       "      <th>18</th>\n",
       "      <td>18</td>\n",
       "      <td>5835461002</td>\n",
       "      <td>Analytics Manager, Campaigns</td>\n",
       "      <td>Analytics</td>\n",
       "      <td>{'city': 'Warsaw, Poland'}</td>\n",
       "      <td>https://bolt.eu/en/careers/positions/5835461002</td>\n",
       "      <td>As an Analytics Manager in the Campaigns team,...</td>\n",
       "      <td>analytics manager campaigns team ’ leading cam...</td>\n",
       "      <td>0.166337</td>\n",
       "    </tr>\n",
       "    <tr>\n",
       "      <th>19</th>\n",
       "      <td>19</td>\n",
       "      <td>5835463002</td>\n",
       "      <td>Analytics Manager, Campaigns</td>\n",
       "      <td>Analytics</td>\n",
       "      <td>{'city': 'Tartu, Estonia'}</td>\n",
       "      <td>https://bolt.eu/en/careers/positions/5835463002</td>\n",
       "      <td>As an Analytics Manager in the Campaigns team,...</td>\n",
       "      <td>analytics manager campaigns team ’ leading cam...</td>\n",
       "      <td>0.166337</td>\n",
       "    </tr>\n",
       "    <tr>\n",
       "      <th>21</th>\n",
       "      <td>21</td>\n",
       "      <td>5835462002</td>\n",
       "      <td>Analytics Manager, Campaigns</td>\n",
       "      <td>Analytics</td>\n",
       "      <td>{'city': 'Tallinn, Estonia'}</td>\n",
       "      <td>https://bolt.eu/en/careers/positions/5835462002</td>\n",
       "      <td>As an Analytics Manager in the Ride-hailing Ca...</td>\n",
       "      <td>analytics manager ride hailing campaigns team ...</td>\n",
       "      <td>0.163322</td>\n",
       "    </tr>\n",
       "    <tr>\n",
       "      <th>20</th>\n",
       "      <td>20</td>\n",
       "      <td>5835456002</td>\n",
       "      <td>Analytics Manager, Campaigns</td>\n",
       "      <td>Analytics</td>\n",
       "      <td>{'city': 'Berlin, Germany'}</td>\n",
       "      <td>https://bolt.eu/en/careers/positions/5835456002</td>\n",
       "      <td>As an Analytics Manager in the Ride-hailing Ca...</td>\n",
       "      <td>analytics manager ride hailing campaigns team ...</td>\n",
       "      <td>0.163322</td>\n",
       "    </tr>\n",
       "    <tr>\n",
       "      <th>855</th>\n",
       "      <td>855</td>\n",
       "      <td>4877706002</td>\n",
       "      <td>Senior Software Engineer, Data Engineering</td>\n",
       "      <td>Engineering</td>\n",
       "      <td>{'city': 'Tallinn, Estonia'}</td>\n",
       "      <td>https://bolt.eu/en/careers/positions/4877706002</td>\n",
       "      <td>Bolt engineering teams are working on unique p...</td>\n",
       "      <td>bolt engineering teams working unique product ...</td>\n",
       "      <td>0.160930</td>\n",
       "    </tr>\n",
       "    <tr>\n",
       "      <th>900</th>\n",
       "      <td>900</td>\n",
       "      <td>5845914002</td>\n",
       "      <td>Software Engineer, Data Engineering</td>\n",
       "      <td>Engineering</td>\n",
       "      <td>{'city': 'Berlin, Germany'}</td>\n",
       "      <td>https://bolt.eu/en/careers/positions/5845914002</td>\n",
       "      <td>Bolt engineering teams are working on unique p...</td>\n",
       "      <td>bolt engineering teams working unique product ...</td>\n",
       "      <td>0.160930</td>\n",
       "    </tr>\n",
       "  </tbody>\n",
       "</table>\n",
       "</div>"
      ],
      "text/plain": [
       "     Unnamed: 0          id                                       title  \\\n",
       "917         917  6077232002                   Supply Chain Data Analyst   \n",
       "119         119  6100418002                         Data Analyst, Fraud   \n",
       "915         915  6098695002                   Supply Chain Data Analyst   \n",
       "916         916  6098696002                   Supply Chain Data Analyst   \n",
       "18           18  5835461002                Analytics Manager, Campaigns   \n",
       "19           19  5835463002                Analytics Manager, Campaigns   \n",
       "21           21  5835462002                Analytics Manager, Campaigns   \n",
       "20           20  5835456002                Analytics Manager, Campaigns   \n",
       "855         855  4877706002  Senior Software Engineer, Data Engineering   \n",
       "900         900  5845914002         Software Engineer, Data Engineering   \n",
       "\n",
       "      department                      location  \\\n",
       "917  Bolt Market    {'city': 'Warsaw, Poland'}   \n",
       "119    Analytics  {'city': 'Tallinn, Estonia'}   \n",
       "915  Bolt Market  {'city': 'Tallinn, Estonia'}   \n",
       "916  Bolt Market  {'city': 'Lisbon, Portugal'}   \n",
       "18     Analytics    {'city': 'Warsaw, Poland'}   \n",
       "19     Analytics    {'city': 'Tartu, Estonia'}   \n",
       "21     Analytics  {'city': 'Tallinn, Estonia'}   \n",
       "20     Analytics   {'city': 'Berlin, Germany'}   \n",
       "855  Engineering  {'city': 'Tallinn, Estonia'}   \n",
       "900  Engineering   {'city': 'Berlin, Germany'}   \n",
       "\n",
       "                                                link  \\\n",
       "917  https://bolt.eu/en/careers/positions/6077232002   \n",
       "119  https://bolt.eu/en/careers/positions/6100418002   \n",
       "915  https://bolt.eu/en/careers/positions/6098695002   \n",
       "916  https://bolt.eu/en/careers/positions/6098696002   \n",
       "18   https://bolt.eu/en/careers/positions/5835461002   \n",
       "19   https://bolt.eu/en/careers/positions/5835463002   \n",
       "21   https://bolt.eu/en/careers/positions/5835462002   \n",
       "20   https://bolt.eu/en/careers/positions/5835456002   \n",
       "855  https://bolt.eu/en/careers/positions/4877706002   \n",
       "900  https://bolt.eu/en/careers/positions/5845914002   \n",
       "\n",
       "                                           description  \\\n",
       "917   We are looking for a Supply Chain Data Analys...   \n",
       "119  We are looking for a motivated Data Analyst to...   \n",
       "915   We are looking for a Supply Chain Data Analys...   \n",
       "916   We are looking for a Supply Chain Data Analys...   \n",
       "18   As an Analytics Manager in the Campaigns team,...   \n",
       "19   As an Analytics Manager in the Campaigns team,...   \n",
       "21   As an Analytics Manager in the Ride-hailing Ca...   \n",
       "20   As an Analytics Manager in the Ride-hailing Ca...   \n",
       "855  Bolt engineering teams are working on unique p...   \n",
       "900  Bolt engineering teams are working on unique p...   \n",
       "\n",
       "                                          bag_of_words  similarity  \n",
       "917  looking supply chain data analyst join bolt ’ ...    0.196293  \n",
       "119  looking motivated data analyst join fraud team...    0.192669  \n",
       "915  looking supply chain data analyst join bolt ’ ...    0.172328  \n",
       "916  looking supply chain data analyst join bolt ’ ...    0.172328  \n",
       "18   analytics manager campaigns team ’ leading cam...    0.166337  \n",
       "19   analytics manager campaigns team ’ leading cam...    0.166337  \n",
       "21   analytics manager ride hailing campaigns team ...    0.163322  \n",
       "20   analytics manager ride hailing campaigns team ...    0.163322  \n",
       "855  bolt engineering teams working unique product ...    0.160930  \n",
       "900  bolt engineering teams working unique product ...    0.160930  "
      ]
     },
     "execution_count": 133,
     "metadata": {},
     "output_type": "execute_result"
    }
   ],
   "source": [
    "recommend(user_bag_of_words, df_job)"
   ]
  }
 ],
 "metadata": {
  "kernelspec": {
   "display_name": "Python 3",
   "language": "python",
   "name": "python3"
  },
  "language_info": {
   "codemirror_mode": {
    "name": "ipython",
    "version": 3
   },
   "file_extension": ".py",
   "mimetype": "text/x-python",
   "name": "python",
   "nbconvert_exporter": "python",
   "pygments_lexer": "ipython3",
   "version": "3.6.13"
  }
 },
 "nbformat": 4,
 "nbformat_minor": 5
}
